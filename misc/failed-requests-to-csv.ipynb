{
 "cells": [
  {
   "cell_type": "code",
   "execution_count": 14,
   "metadata": {},
   "outputs": [],
   "source": [
    "import json\n",
    "import csv\n",
    "import numpy as np\n",
    "import os\n"
   ]
  },
  {
   "cell_type": "code",
   "execution_count": 15,
   "metadata": {},
   "outputs": [],
   "source": [
    "directory = '../ignore/failed-requests/'"
   ]
  },
  {
   "cell_type": "code",
   "execution_count": 16,
   "metadata": {},
   "outputs": [],
   "source": [
    "\n",
    "def get_data(filename):\n",
    "    with open(filename, 'r') as f:\n",
    "        return json.load(f)\n",
    "\n",
    "def parse_data(data):\n",
    "    route_to_name = {\n",
    "        \"/image/set\" : 'bild hinzufügen',\n",
    "        \"/set\" : 'datenpunkt hinzufügen',\n",
    "        \"/update\" : 'datenpunkt aktualisieren',\n",
    "        \"/delete\" : 'datenpunkt löschen',\n",
    "        \"/deleteImgH\" : 'bild löschen',\n",
    "        \"/setMainImgH\" : 'bild als hauptbild setzen'\n",
    "    }\n",
    "    \n",
    "    name = route_to_name[data['route']]\n",
    "    typus = data['json']['type']\n",
    "    inner = json.loads(data['json']['data']) if name == 'bild hinzufügen' else data['json']['data']\n",
    "    ident = inner['parent_local_id']\n",
    "    # parse the 4 numbers in 72364-45-3-4 from ident and store as prnr, e1, e2, e3\n",
    "    print(ident)\n",
    "    prnr, e1, e2, e3 = ident.split('-') #TODO: parentid ist manchmal locally added und deshalb nicht so geeignet, e1 und so also besser holen\n",
    "    kurztext = inner['KurzText']\n",
    "    images = data['multipartFiles'] if name == 'bild hinzufügen' else []\n",
    "    return [prnr, name, typus, e1, e2, e3, kurztext, images]\n",
    "\n",
    "def write_csv(data, filename):\n",
    "    with open(filename, 'w') as f:\n",
    "        writer = csv.writer(f)\n",
    "        writer.writerows(data)\n"
   ]
  },
  {
   "cell_type": "code",
   "execution_count": 17,
   "metadata": {},
   "outputs": [
    {
     "name": "stdout",
     "output_type": "stream",
     "text": [
      "20236165-7-1-0\n",
      "__locally_added__4akvcr\n"
     ]
    },
    {
     "ename": "ValueError",
     "evalue": "not enough values to unpack (expected 4, got 1)",
     "output_type": "error",
     "traceback": [
      "\u001b[0;31m---------------------------------------------------------------------------\u001b[0m",
      "\u001b[0;31mValueError\u001b[0m                                Traceback (most recent call last)",
      "\u001b[1;32m/Users/hanneshattenbach/Job/mastbau/inspector/misc/failed-requests-to-csv.ipynb Cell 4\u001b[0m in \u001b[0;36m<module>\u001b[0;34m\u001b[0m\n\u001b[1;32m      <a href='vscode-notebook-cell:/Users/hanneshattenbach/Job/mastbau/inspector/misc/failed-requests-to-csv.ipynb#W3sZmlsZQ%3D%3D?line=1'>2</a>\u001b[0m data \u001b[39m=\u001b[39m []\n\u001b[1;32m      <a href='vscode-notebook-cell:/Users/hanneshattenbach/Job/mastbau/inspector/misc/failed-requests-to-csv.ipynb#W3sZmlsZQ%3D%3D?line=2'>3</a>\u001b[0m \u001b[39mfor\u001b[39;00m filename \u001b[39min\u001b[39;00m os\u001b[39m.\u001b[39mlistdir(directory):\n\u001b[0;32m----> <a href='vscode-notebook-cell:/Users/hanneshattenbach/Job/mastbau/inspector/misc/failed-requests-to-csv.ipynb#W3sZmlsZQ%3D%3D?line=3'>4</a>\u001b[0m     data\u001b[39m.\u001b[39mappend(parse_data(get_data(directory \u001b[39m+\u001b[39;49m filename)))\n\u001b[1;32m      <a href='vscode-notebook-cell:/Users/hanneshattenbach/Job/mastbau/inspector/misc/failed-requests-to-csv.ipynb#W3sZmlsZQ%3D%3D?line=4'>5</a>\u001b[0m \u001b[39m# convert data to csv\u001b[39;00m\n\u001b[1;32m      <a href='vscode-notebook-cell:/Users/hanneshattenbach/Job/mastbau/inspector/misc/failed-requests-to-csv.ipynb#W3sZmlsZQ%3D%3D?line=5'>6</a>\u001b[0m write_csv(data, \u001b[39m'\u001b[39m\u001b[39mfailed-requests.csv\u001b[39m\u001b[39m'\u001b[39m)\n",
      "\u001b[1;32m/Users/hanneshattenbach/Job/mastbau/inspector/misc/failed-requests-to-csv.ipynb Cell 4\u001b[0m in \u001b[0;36mparse_data\u001b[0;34m(data)\u001b[0m\n\u001b[1;32m     <a href='vscode-notebook-cell:/Users/hanneshattenbach/Job/mastbau/inspector/misc/failed-requests-to-csv.ipynb#W3sZmlsZQ%3D%3D?line=18'>19</a>\u001b[0m \u001b[39m# parse the 4 numbers in 72364-45-3-4 from ident and store as prnr, e1, e2, e3\u001b[39;00m\n\u001b[1;32m     <a href='vscode-notebook-cell:/Users/hanneshattenbach/Job/mastbau/inspector/misc/failed-requests-to-csv.ipynb#W3sZmlsZQ%3D%3D?line=19'>20</a>\u001b[0m \u001b[39mprint\u001b[39m(ident)\n\u001b[0;32m---> <a href='vscode-notebook-cell:/Users/hanneshattenbach/Job/mastbau/inspector/misc/failed-requests-to-csv.ipynb#W3sZmlsZQ%3D%3D?line=20'>21</a>\u001b[0m prnr, e1, e2, e3 \u001b[39m=\u001b[39m ident\u001b[39m.\u001b[39msplit(\u001b[39m'\u001b[39m\u001b[39m-\u001b[39m\u001b[39m'\u001b[39m)\n\u001b[1;32m     <a href='vscode-notebook-cell:/Users/hanneshattenbach/Job/mastbau/inspector/misc/failed-requests-to-csv.ipynb#W3sZmlsZQ%3D%3D?line=21'>22</a>\u001b[0m kurztext \u001b[39m=\u001b[39m inner[\u001b[39m'\u001b[39m\u001b[39mKurzText\u001b[39m\u001b[39m'\u001b[39m]\n\u001b[1;32m     <a href='vscode-notebook-cell:/Users/hanneshattenbach/Job/mastbau/inspector/misc/failed-requests-to-csv.ipynb#W3sZmlsZQ%3D%3D?line=22'>23</a>\u001b[0m images \u001b[39m=\u001b[39m data[\u001b[39m'\u001b[39m\u001b[39mmultipartFiles\u001b[39m\u001b[39m'\u001b[39m] \u001b[39mif\u001b[39;00m name \u001b[39m==\u001b[39m \u001b[39m'\u001b[39m\u001b[39mbild hinzufügen\u001b[39m\u001b[39m'\u001b[39m \u001b[39melse\u001b[39;00m []\n",
      "\u001b[0;31mValueError\u001b[0m: not enough values to unpack (expected 4, got 1)"
     ]
    }
   ],
   "source": [
    "# open all files in directory and parse data\n",
    "data = []\n",
    "for filename in os.listdir(directory):\n",
    "    data.append(parse_data(get_data(directory + filename)))\n",
    "# convert data to csv\n",
    "write_csv(data, 'failed-requests.csv')"
   ]
  }
 ],
 "metadata": {
  "kernelspec": {
   "display_name": "Python 3",
   "language": "python",
   "name": "python3"
  },
  "language_info": {
   "codemirror_mode": {
    "name": "ipython",
    "version": 3
   },
   "file_extension": ".py",
   "mimetype": "text/x-python",
   "name": "python",
   "nbconvert_exporter": "python",
   "pygments_lexer": "ipython3",
   "version": "3.10.2"
  },
  "orig_nbformat": 4
 },
 "nbformat": 4,
 "nbformat_minor": 2
}
